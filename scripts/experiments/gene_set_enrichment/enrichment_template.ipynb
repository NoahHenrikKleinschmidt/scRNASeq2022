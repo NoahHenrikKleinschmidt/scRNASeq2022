{
 "cells": [
  {
   "cell_type": "markdown",
   "metadata": {},
   "source": [
    "This notebook performs gene set enrichment analysis of an EcoTyper results dataset, using `eco_helper enrich`."
   ]
  },
  {
   "cell_type": "markdown",
   "metadata": {},
   "source": [
    "## Input Section\n",
    "\n",
    "This section defines the basic setup of the analysis. The subsequent cells can be run in bulk and need not necessarily be altered in any way.\n",
    "\n",
    "### Variables to set\n",
    "- config (optional)\n",
    "  - The path to the Ecotyper config yaml file used for the experiments to summarize (if the same was used). The project folder can be specified as `{parent}`, the scripts folder within the parent can be specified as `{scripts}` if the config is not within either of these, and absolute path is required.\n",
    "- directory\n",
    "  - The name of the Ecotyper results directory. This needs to be either an absolute path or a subdirectory of the results directory within the project directory (parent directory). The results directory can be specified using `{results}`. \n",
    "- outdir \n",
    "  - The directory to save the outputs in.\n",
    "- directory_is_absolute\n",
    "  - Set this to *True* to mark the provided directory not as a subdirectory of the results directory but rather as a raw source directory containing eco_helper enrich results files.\n",
    "- perform_enrichment (optional)\n",
    "  - If no pathway enrichment has been performed yet, `eco_helper enrich` is called automatically irrespective of this variable. However, if enrichment has already been performed and data is found, this will force re-computation of the enrichment."
   ]
  },
  {
   "cell_type": "code",
   "execution_count": 1,
   "metadata": {},
   "outputs": [],
   "source": [
    "config = None\n",
    "directory = \"{results}/some_data_folder_here...\"\n",
    "outdir = \"{parent}/gsea_results\"\n",
    "\n",
    "directory_is_absolute = False\n",
    "perform_enrichment = False"
   ]
  },
  {
   "cell_type": "markdown",
   "metadata": {},
   "source": [
    "The below variables are only required in case `eco_helper enrich` is called.\n",
    "\n",
    "### Variables to set\n",
    "\n",
    "- gene_sets\n",
    "  - The gene sets to query.\n",
    "- perform_enrichr\n",
    "  - Set to False if `gseapy enrichr` should not be performed. This will also enable or disable loading of existing results.\n",
    "- perform_prerank\n",
    "  - Set to False if `prerank` should not be performed. This will also enable or disable loading of existing results.\n",
    "- only_ecotype_contributing\n",
    "  - Set to True to only perform gene set enrichment on celltypes and states that contribute to assigned Ecotypes."
   ]
  },
  {
   "cell_type": "code",
   "execution_count": 2,
   "metadata": {},
   "outputs": [],
   "source": [
    "gene_sets = [   \"Reactome_2016\", \n",
    "                \"WikiPathway_2021_Human\", \n",
    "                \"Panther_2016\", \n",
    "                \"KEGG_2021_Human\",\n",
    "                \"GO_Biological_Process_2021\", \n",
    "                \"GO_Molecular_Function_2021\", \n",
    "                \"GO_Cellular_Component_2021\"  ]\n",
    "\n",
    "perform_enrichr = True\n",
    "perform_prerank = False\n",
    "only_ecotype_contributing = True"
   ]
  },
  {
   "cell_type": "markdown",
   "metadata": {},
   "source": [
    "---\n",
    "<br>\n",
    "\n",
    "> No need to alter anything in this section..."
   ]
  },
  {
   "cell_type": "markdown",
   "metadata": {},
   "source": [
    "Now import necessary packages"
   ]
  },
  {
   "cell_type": "code",
   "execution_count": 3,
   "metadata": {},
   "outputs": [],
   "source": [
    "import eco_helper as eh\n",
    "import eco_helper.enrich as enrich\n",
    "import eco_helper.enrich.visualise as visualise\n",
    "\n",
    "from qpcr._auxiliary.graphical import make_layout_from_list\n",
    "\n",
    "import os, glob\n",
    "import pandas as pd\n",
    "import numpy as np\n",
    "import seaborn as sns\n",
    "import matplotlib.pyplot as plt"
   ]
  },
  {
   "cell_type": "markdown",
   "metadata": {},
   "source": [
    "Other project directories (need not necessarily be edited)"
   ]
  },
  {
   "cell_type": "code",
   "execution_count": 4,
   "metadata": {},
   "outputs": [],
   "source": [
    "if not directory:\n",
    "    raise ValueError(\"Please specify a directory.\")\n",
    "\n",
    "# the parent directory of the EcoTyper project\n",
    "parent = \"/data/users/noahkleinschmidt/EcoTyper\"\n",
    "\n",
    "# script and results directories within the parent\n",
    "scripts = f\"{parent}/scripts\"\n",
    "results = f\"{parent}/results\"\n",
    "enrichments_dir = f\"{parent}/gsea_enrichment\"\n",
    "\n",
    "outdir = outdir.format( parent = parent )\n",
    "directory = directory.format( parent = parent, results = results )\n",
    "data_dir = f\"{enrichments_dir}/{ os.path.basename( directory ) }\" if not directory_is_absolute else directory\n",
    "\n",
    "if config:\n",
    "    config = config.format( parent = parent, scripts = scripts )"
   ]
  },
  {
   "cell_type": "markdown",
   "metadata": {},
   "source": [
    "Make sure we have a valid output directory and (re)-perform enrichment if necessary."
   ]
  },
  {
   "cell_type": "code",
   "execution_count": 5,
   "metadata": {},
   "outputs": [],
   "source": [
    "if not os.path.exists( outdir ):\n",
    "    os.makedirs( outdir )\n",
    "\n",
    "if not os.path.exists( enrichments_dir ):\n",
    "    os.makedirs( enrichments_dir )\n",
    "\n",
    "if perform_enrichment or not os.path.basename( directory ) in os.listdir( enrichments_dir ):\n",
    "    \n",
    "    print( \"Calling eco_helper enrich\")\n",
    "    def run_enrich( with_enrichr, with_prerank, ecotypes_only ):\n",
    "        \"\"\"\n",
    "        A small helper function to run eco_helper enrich\n",
    "        \"\"\"\n",
    "        enrichr = \"--enrichr\" if with_enrichr else \"\"\n",
    "        prerank = \"--prerank\" if with_prerank else \"\"\n",
    "        ecotypes = \"--ecotypes\" if ecotypes_only else \"\"\n",
    "\n",
    "        cmd = f\"eco_helper enrich {enrichr} {prerank} \\\n",
    "                {ecotypes} \\\n",
    "                --assemble \\\n",
    "                --gene_sets { ' '.join( gene_sets ) } \\\n",
    "                --output {data_dir} \\\n",
    "                {directory}\"\n",
    "\n",
    "        os.system( cmd )\n",
    "    \n",
    "    run_enrich( with_enrichr = perform_enrichr, with_prerank = perform_prerank, ecotypes_only = only_ecotype_contributing )"
   ]
  },
  {
   "cell_type": "markdown",
   "metadata": {},
   "source": [
    "Now load the enrichment results for all celltypes or ecotypes into two `EnrichmentCollections`, one for the `prerank` results (if available) and one for the `enrichr` results (if available)."
   ]
  },
  {
   "cell_type": "code",
   "execution_count": 6,
   "metadata": {},
   "outputs": [],
   "source": [
    "resolution = \"ecotype\" if only_ecotype_contributing else \"celltype\"\n",
    "\n",
    "prerank = None\n",
    "if perform_prerank:\n",
    "    prerank = eh.enrich.EnrichmentCollection( data_dir, resolution = resolution, which = \"prerank\" )\n",
    "\n",
    "enrichr = None\n",
    "if perform_enrichr:\n",
    "    enrichr = eh.enrich.EnrichmentCollection( data_dir, resolution = resolution, which = \"enrichr\" )"
   ]
  },
  {
   "cell_type": "markdown",
   "metadata": {},
   "source": [
    "---"
   ]
  },
  {
   "cell_type": "markdown",
   "metadata": {},
   "source": [
    "## Analysis Section\n",
    "\n",
    "From here on the user may perform their own analyses on the data."
   ]
  },
  {
   "cell_type": "code",
   "execution_count": null,
   "metadata": {},
   "outputs": [],
   "source": []
  }
 ],
 "metadata": {
  "kernelspec": {
   "display_name": "Python 3.10.5 ('EcoTyper')",
   "language": "python",
   "name": "python3"
  },
  "language_info": {
   "codemirror_mode": {
    "name": "ipython",
    "version": 3
   },
   "file_extension": ".py",
   "mimetype": "text/x-python",
   "name": "python",
   "nbconvert_exporter": "python",
   "pygments_lexer": "ipython3",
   "version": "3.10.5"
  },
  "orig_nbformat": 4,
  "vscode": {
   "interpreter": {
    "hash": "77367b1b86fe4f9ca65966920857aa91134869a7c4331f8dd1494a4b9db8d60d"
   }
  }
 },
 "nbformat": 4,
 "nbformat_minor": 2
}
