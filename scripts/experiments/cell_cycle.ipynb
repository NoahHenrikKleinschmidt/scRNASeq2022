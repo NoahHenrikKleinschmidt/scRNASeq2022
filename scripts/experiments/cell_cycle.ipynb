{
 "cells": [
  {
   "cell_type": "code",
   "execution_count": 16,
   "metadata": {},
   "outputs": [],
   "source": [
    "import pandas as pd\n",
    "import numpy as np\n",
    "import matplotlib.pyplot as plt\n",
    "import seaborn as sns\n",
    "import glob\n",
    "import os\n",
    "import statsmodels.api as sm\n",
    "import statsmodels.formula.api as smf"
   ]
  },
  {
   "attachments": {},
   "cell_type": "markdown",
   "metadata": {},
   "source": [
    "# Config"
   ]
  },
  {
   "cell_type": "code",
   "execution_count": 3,
   "metadata": {},
   "outputs": [],
   "source": [
    "dataset = \"v3_drop_cancer_stem_drop_cholangiocytes_no_normals_min2\"\n",
    "\n",
    "base = f\"/data/users/{os.environ['USER']}/EcoTyper\"\n",
    "raw_data_dir = f\"{base}/data/scRNA/merged_seurat/ecotyper_friendly\"\n",
    "state_assignment_data_dir = f\"{base}/results/{dataset}\"\n",
    "\n",
    "enrichment_data_dir = f\"{base}/gsea_enrichment/{dataset}\" \n",
    "expression_data = f\"{raw_data_dir}/{dataset[3:-5]}.expression.tsv\"\n",
    "annotation = f\"{raw_data_dir}/{dataset[3:-5]}.annotation.tsv\"\n",
    "\n",
    "cell_cycle_marker_genes = f\"{base}/data/scRNA/v1/resources/cyclebaseGeneList.txt\"\n",
    "\n",
    "final = f\"{base}/summaries/{dataset}.cell_cycle_expression.tsv\""
   ]
  },
  {
   "attachments": {},
   "cell_type": "markdown",
   "metadata": {},
   "source": [
    "Define patterns to search for when parsing \"gene expression\"-related gene sets"
   ]
  },
  {
   "cell_type": "code",
   "execution_count": 4,
   "metadata": {},
   "outputs": [],
   "source": [
    "expression_patterns = [\n",
    "                \"translation\",\n",
    "                \"rRNA\",\n",
    "                \"ribosom\",\n",
    "                \"peptide chain\",\n",
    "                \"elongation\",\n",
    "                \"peptide chain initiation\",\n",
    "                \"peptide chain termination\",\n",
    "                \"40S\",\n",
    "                \"60S\",\n",
    "                \"80S\",\n",
    "                \"ribosom(e|al)\",\n",
    "                \"gene expression\",\n",
    "                \"transcription(al)?\",\n",
    "                \"RNA polymerase\",\n",
    "                \"tRNA\",\n",
    "                \"production.*protein\",\n",
    "                \"protein production\",\n",
    "                \"DNA replication\",\n",
    "]"
   ]
  },
  {
   "attachments": {},
   "cell_type": "markdown",
   "metadata": {},
   "source": [
    "Read the input data"
   ]
  },
  {
   "cell_type": "code",
   "execution_count": 5,
   "metadata": {},
   "outputs": [],
   "source": [
    "annotation = pd.read_csv(annotation, sep=\"\\t\", index_col=0)\n",
    "markers = pd.read_csv(cell_cycle_marker_genes, sep=\"\\t\", index_col=0)\n",
    "\n",
    "if not os.path.exists(final):\n",
    "    expression = pd.read_csv(expression_data, sep=\"\\t\", index_col=0)\n",
    "    genes_found = len(set(markers.index.values).intersection(set(expression.index.values)))\n",
    "    assert genes_found > 0, \"No cell cycle marker genes found in expression data\"\n",
    "    expression = expression[expression.index.isin(markers.index.values)]\n",
    "    expression.shape"
   ]
  },
  {
   "attachments": {},
   "cell_type": "markdown",
   "metadata": {},
   "source": [
    "Define helper functions"
   ]
  },
  {
   "cell_type": "code",
   "execution_count": 6,
   "metadata": {},
   "outputs": [],
   "source": [
    "def get_genes_to_state(df, state):\n",
    "    cells = df[df[\"State\"] == state].ID.values\n",
    "    _expressions = expression[expression.columns.intersection(cells)]\n",
    "    return _expressions\n",
    "\n",
    "def compute_phase_expression(expressions):\n",
    "    _expressions = expressions.copy()\n",
    "    _expressions[\"phase\"] = markers[\"Peaktime\"]\n",
    "\n",
    "    _expr = {}\n",
    "    for i, _df in _expressions.groupby(\"phase\"):\n",
    "        _df.drop(\"phase\", axis=1, inplace=True)\n",
    "        _expr[i] = [_df.values.flatten().mean()]\n",
    "    \n",
    "    _expressions = pd.DataFrame(_expr).T\n",
    "    _expressions.columns = [\"expression\"]\n",
    "    _expressions.index.name = \"phase\"\n",
    "    return _expressions\n",
    "\n",
    "def split_filename(filename):\n",
    "    filename = os.path.basename(filename)\n",
    "    celltype, state = filename.split(\".txt.enrichr.txt\")[0].split(\"_S\")\n",
    "    state = \"S\" + state\n",
    "    return celltype, state\n",
    "\n",
    "def get_pattern_enrichment(filename):\n",
    "    df = pd.read_csv(filename, sep=\"\\t\")\n",
    "    mask = df[\"Term\"].str.contains(\"|\".join(expression_patterns))\n",
    "    scores = np.log2(df[mask][\"Combined Score\"].values)\n",
    "    qvals = -np.log10(df[mask][\"Adjusted P-value\"].values)\n",
    "    mean_score = np.mean(scores * qvals)\n",
    "    return mean_score\n"
   ]
  },
  {
   "attachments": {},
   "cell_type": "markdown",
   "metadata": {},
   "source": [
    "# Parse data"
   ]
  },
  {
   "attachments": {},
   "cell_type": "markdown",
   "metadata": {},
   "source": [
    "Get the average expression of cell cycle marker genes"
   ]
  },
  {
   "cell_type": "code",
   "execution_count": 26,
   "metadata": {},
   "outputs": [],
   "source": [
    "if not os.path.exists(final):\n",
    "        \n",
    "    ecotypes = glob.glob(enrichment_data_dir + \"/E*\")\n",
    "\n",
    "    cell_cycle_df = []\n",
    "    assignments = {}\n",
    "\n",
    "    for ecotype in ecotypes:\n",
    "\n",
    "        # get all enrichments\n",
    "        enrichments = glob.glob(ecotype + \"/*.txt.enrichr.txt\")\n",
    "\n",
    "        # get marker expression for each cell type\n",
    "        for file in enrichments:\n",
    "\n",
    "            celltype, state = split_filename(file)\n",
    "\n",
    "            if celltype not in assignments:\n",
    "\n",
    "                assignment_file = f\"{state_assignment_data_dir}/{celltype}/state_assignment.txt\"\n",
    "                assignments[celltype] = pd.read_csv(assignment_file, sep=\"\\t\", index_col=0)\n",
    "            \n",
    "            _expressions = assignments[celltype]\n",
    "            _expressions = get_genes_to_state(_expressions, state)\n",
    "            \n",
    "\n",
    "            _expressions = compute_phase_expression(_expressions)\n",
    "\n",
    "            _expressions[\"expression\"] = _expressions[\"expression\"] / _expressions[\"expression\"].max()\n",
    "            _expressions[\"celltype\"] = celltype\n",
    "            _expressions[\"state\"] = state\n",
    "            _expressions[\"ecotype\"] = os.path.basename(ecotype)\n",
    "\n",
    "            # get division pattern enrichment\n",
    "            enrichment_file = f\"{enrichment_data_dir}/{os.path.basename(ecotype)}/{celltype}_{state}.txt.enrichr.txt\"\n",
    "            _expressions[\"pattern_enrichment\"] = get_pattern_enrichment(enrichment_file)\n",
    "\n",
    "            cell_cycle_df.append(_expressions)\n",
    "\n",
    "    cell_cycle_df = pd.concat(cell_cycle_df)\n",
    "    cell_cycle_df = cell_cycle_df.reset_index()\n",
    "\n",
    "    cell_cycle_df[\"pattern_enrichment\"] = cell_cycle_df[\"pattern_enrichment\"] / cell_cycle_df[\"pattern_enrichment\"].max()\n",
    "\n",
    "    cell_cycle_df.to_csv(final, sep=\"\\t\", index=False)\n",
    "\n",
    "else:\n",
    "\n",
    "    cell_cycle_df = pd.read_csv(final, sep=\"\\t\", index_col=0)"
   ]
  },
  {
   "cell_type": "code",
   "execution_count": 27,
   "metadata": {},
   "outputs": [
    {
     "data": {
      "text/html": [
       "<div>\n",
       "<style scoped>\n",
       "    .dataframe tbody tr th:only-of-type {\n",
       "        vertical-align: middle;\n",
       "    }\n",
       "\n",
       "    .dataframe tbody tr th {\n",
       "        vertical-align: top;\n",
       "    }\n",
       "\n",
       "    .dataframe thead th {\n",
       "        text-align: right;\n",
       "    }\n",
       "</style>\n",
       "<table border=\"1\" class=\"dataframe\">\n",
       "  <thead>\n",
       "    <tr style=\"text-align: right;\">\n",
       "      <th></th>\n",
       "      <th>expression</th>\n",
       "      <th>celltype</th>\n",
       "      <th>state</th>\n",
       "      <th>ecotype</th>\n",
       "      <th>pattern_enrichment</th>\n",
       "    </tr>\n",
       "    <tr>\n",
       "      <th>phase</th>\n",
       "      <th></th>\n",
       "      <th></th>\n",
       "      <th></th>\n",
       "      <th></th>\n",
       "      <th></th>\n",
       "    </tr>\n",
       "  </thead>\n",
       "  <tbody>\n",
       "    <tr>\n",
       "      <th>G1</th>\n",
       "      <td>66.937001</td>\n",
       "      <td>Hepatoblasts</td>\n",
       "      <td>S01</td>\n",
       "      <td>E6</td>\n",
       "      <td>3.473737</td>\n",
       "    </tr>\n",
       "    <tr>\n",
       "      <th>G1/S</th>\n",
       "      <td>33.070884</td>\n",
       "      <td>Hepatoblasts</td>\n",
       "      <td>S01</td>\n",
       "      <td>E6</td>\n",
       "      <td>3.473737</td>\n",
       "    </tr>\n",
       "    <tr>\n",
       "      <th>G2</th>\n",
       "      <td>67.531251</td>\n",
       "      <td>Hepatoblasts</td>\n",
       "      <td>S01</td>\n",
       "      <td>E6</td>\n",
       "      <td>3.473737</td>\n",
       "    </tr>\n",
       "    <tr>\n",
       "      <th>G2/M</th>\n",
       "      <td>24.392010</td>\n",
       "      <td>Hepatoblasts</td>\n",
       "      <td>S01</td>\n",
       "      <td>E6</td>\n",
       "      <td>3.473737</td>\n",
       "    </tr>\n",
       "    <tr>\n",
       "      <th>M</th>\n",
       "      <td>45.516627</td>\n",
       "      <td>Hepatoblasts</td>\n",
       "      <td>S01</td>\n",
       "      <td>E6</td>\n",
       "      <td>3.473737</td>\n",
       "    </tr>\n",
       "    <tr>\n",
       "      <th>...</th>\n",
       "      <td>...</td>\n",
       "      <td>...</td>\n",
       "      <td>...</td>\n",
       "      <td>...</td>\n",
       "      <td>...</td>\n",
       "    </tr>\n",
       "    <tr>\n",
       "      <th>G1/S</th>\n",
       "      <td>47.590151</td>\n",
       "      <td>Endothelial_cell</td>\n",
       "      <td>S07</td>\n",
       "      <td>E5</td>\n",
       "      <td>6.028231</td>\n",
       "    </tr>\n",
       "    <tr>\n",
       "      <th>G2</th>\n",
       "      <td>62.450157</td>\n",
       "      <td>Endothelial_cell</td>\n",
       "      <td>S07</td>\n",
       "      <td>E5</td>\n",
       "      <td>6.028231</td>\n",
       "    </tr>\n",
       "    <tr>\n",
       "      <th>G2/M</th>\n",
       "      <td>55.132795</td>\n",
       "      <td>Endothelial_cell</td>\n",
       "      <td>S07</td>\n",
       "      <td>E5</td>\n",
       "      <td>6.028231</td>\n",
       "    </tr>\n",
       "    <tr>\n",
       "      <th>M</th>\n",
       "      <td>47.272706</td>\n",
       "      <td>Endothelial_cell</td>\n",
       "      <td>S07</td>\n",
       "      <td>E5</td>\n",
       "      <td>6.028231</td>\n",
       "    </tr>\n",
       "    <tr>\n",
       "      <th>S</th>\n",
       "      <td>37.653337</td>\n",
       "      <td>Endothelial_cell</td>\n",
       "      <td>S07</td>\n",
       "      <td>E5</td>\n",
       "      <td>6.028231</td>\n",
       "    </tr>\n",
       "  </tbody>\n",
       "</table>\n",
       "<p>168 rows × 5 columns</p>\n",
       "</div>"
      ],
      "text/plain": [
       "       expression          celltype state ecotype  pattern_enrichment\n",
       "phase                                                                \n",
       "G1      66.937001      Hepatoblasts   S01      E6            3.473737\n",
       "G1/S    33.070884      Hepatoblasts   S01      E6            3.473737\n",
       "G2      67.531251      Hepatoblasts   S01      E6            3.473737\n",
       "G2/M    24.392010      Hepatoblasts   S01      E6            3.473737\n",
       "M       45.516627      Hepatoblasts   S01      E6            3.473737\n",
       "...           ...               ...   ...     ...                 ...\n",
       "G1/S    47.590151  Endothelial_cell   S07      E5            6.028231\n",
       "G2      62.450157  Endothelial_cell   S07      E5            6.028231\n",
       "G2/M    55.132795  Endothelial_cell   S07      E5            6.028231\n",
       "M       47.272706  Endothelial_cell   S07      E5            6.028231\n",
       "S       37.653337  Endothelial_cell   S07      E5            6.028231\n",
       "\n",
       "[168 rows x 5 columns]"
      ]
     },
     "execution_count": 27,
     "metadata": {},
     "output_type": "execute_result"
    }
   ],
   "source": [
    "cell_cycle_df"
   ]
  },
  {
   "cell_type": "code",
   "execution_count": 28,
   "metadata": {},
   "outputs": [
    {
     "data": {
      "image/png": "[encoded data removed]",
      "text/plain": [
       "<Figure size 640x480 with 1 Axes>"
      ]
     },
     "metadata": {},
     "output_type": "display_data"
    }
   ],
   "source": [
    "ax = sns.scatterplot(data=cell_cycle_df, x=\"pattern_enrichment\", y=\"expression\", hue=\"phase\", hue_order = ['G1', 'G1/S', 'S', 'G2', 'G2/M', 'M'], palette=\"Spectral_r\")\n",
    "ax.set(title = \"Cell cycle marker expression vs gene expression category enrichment\", xlabel = \"Category enrichment\", ylabel = \"Cell cycle marker expression\")\n",
    "ax.legend(loc='center left', bbox_to_anchor=(1, 0.5), frameon=False, title = \"Cell cycle phase\")\n",
    "sns.despine()"
   ]
  },
  {
   "cell_type": "code",
   "execution_count": 39,
   "metadata": {},
   "outputs": [],
   "source": [
    "ax.figure.savefig(final.replace(\".tsv\", \".png\"), bbox_inches='tight', dpi=500)"
   ]
  },
  {
   "attachments": {},
   "cell_type": "markdown",
   "metadata": {},
   "source": [
    "Now perform a statistical analysis to check the predictive value of the category enrichment for cell cycle phase"
   ]
  },
  {
   "cell_type": "code",
   "execution_count": 40,
   "metadata": {},
   "outputs": [
    {
     "data": {
      "text/html": [
       "<table class=\"simpletable\">\n",
       "<tr>\n",
       "       <td>Model:</td>       <td>MixedLM</td> <td>Dependent Variable:</td> <td>expression</td>\n",
       "</tr>\n",
       "<tr>\n",
       "  <td>No. Observations:</td>   <td>168</td>         <td>Method:</td>          <td>REML</td>   \n",
       "</tr>\n",
       "<tr>\n",
       "     <td>No. Groups:</td>       <td>9</td>          <td>Scale:</td>         <td>590.3174</td> \n",
       "</tr>\n",
       "<tr>\n",
       "  <td>Min. group size:</td>     <td>6</td>      <td>Log-Likelihood:</td>    <td>-777.2031</td>\n",
       "</tr>\n",
       "<tr>\n",
       "  <td>Max. group size:</td>    <td>30</td>        <td>Converged:</td>          <td>Yes</td>   \n",
       "</tr>\n",
       "<tr>\n",
       "  <td>Mean group size:</td>   <td>18.7</td>            <td></td>                <td></td>     \n",
       "</tr>\n",
       "</table>\n",
       "<table class=\"simpletable\">\n",
       "<tr>\n",
       "           <td></td>           <th>Coef.</th> <th>Std.Err.</th>    <th>z</th>   <th>P>|z|</th> <th>[0.025</th> <th>0.975]</th>\n",
       "</tr>\n",
       "<tr>\n",
       "  <th>Intercept</th>          <td>44.842</td>   <td>3.697</td>  <td>12.129</td> <td>0.000</td> <td>37.596</td> <td>52.088</td>\n",
       "</tr>\n",
       "<tr>\n",
       "  <th>pattern_enrichment</th> <td>-0.022</td>   <td>0.127</td>  <td>-0.170</td> <td>0.865</td> <td>-0.271</td>  <td>0.227</td>\n",
       "</tr>\n",
       "<tr>\n",
       "  <th>Group Var</th>          <td>67.497</td>   <td>2.064</td>     <td></td>      <td></td>       <td></td>       <td></td>   \n",
       "</tr>\n",
       "</table>"
      ],
      "text/plain": [
       "<class 'statsmodels.iolib.summary2.Summary'>\n",
       "\"\"\"\n",
       "            Mixed Linear Model Regression Results\n",
       "=============================================================\n",
       "Model:               MixedLM  Dependent Variable:  expression\n",
       "No. Observations:    168      Method:              REML      \n",
       "No. Groups:          9        Scale:               590.3174  \n",
       "Min. group size:     6        Log-Likelihood:      -777.2031 \n",
       "Max. group size:     30       Converged:           Yes       \n",
       "Mean group size:     18.7                                    \n",
       "-------------------------------------------------------------\n",
       "                   Coef.  Std.Err.   z    P>|z| [0.025 0.975]\n",
       "-------------------------------------------------------------\n",
       "Intercept          44.842    3.697 12.129 0.000 37.596 52.088\n",
       "pattern_enrichment -0.022    0.127 -0.170 0.865 -0.271  0.227\n",
       "Group Var          67.497    2.064                           \n",
       "=============================================================\n",
       "\n",
       "\"\"\""
      ]
     },
     "execution_count": 40,
     "metadata": {},
     "output_type": "execute_result"
    }
   ],
   "source": [
    "cell_cycle_df[\"celltype\"] = cell_cycle_df[\"celltype\"].astype(\"category\")\n",
    "\n",
    "formula = \"expression ~ pattern_enrichment\" # + (1 + pattern_enrichment | celltype)\"\n",
    "model = smf.mixedlm(formula, cell_cycle_df, groups=cell_cycle_df[\"celltype\"])\n",
    "result = model.fit()\n",
    "\n",
    "result.summary()"
   ]
  },
  {
   "cell_type": "code",
   "execution_count": null,
   "metadata": {},
   "outputs": [],
   "source": []
  }
 ],
 "metadata": {
  "kernelspec": {
   "display_name": "EcoTyper",
   "language": "python",
   "name": "python3"
  },
  "language_info": {
   "codemirror_mode": {
    "name": "ipython",
    "version": 3
   },
   "file_extension": ".py",
   "mimetype": "text/x-python",
   "name": "python",
   "nbconvert_exporter": "python",
   "pygments_lexer": "ipython3",
   "version": "3.10.6"
  },
  "orig_nbformat": 4,
  "vscode": {
   "interpreter": {
    "hash": "77367b1b86fe4f9ca65966920857aa91134869a7c4331f8dd1494a4b9db8d60d"
   }
  }
 },
 "nbformat": 4,
 "nbformat_minor": 2
}
