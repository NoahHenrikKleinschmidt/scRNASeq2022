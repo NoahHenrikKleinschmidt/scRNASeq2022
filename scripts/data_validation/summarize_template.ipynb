{
 "cells": [
  {
   "cell_type": "markdown",
   "metadata": {},
   "source": [
    "This notebook performs data summarization using `eco_validate`"
   ]
  },
  {
   "cell_type": "markdown",
   "metadata": {},
   "source": [
    "## Input section\n",
    "\n",
    "In this section basic parameters can be set to for summary, the subsequent cells can be run in bulk.\n",
    "\n",
    "### Variables to set\n",
    "\n",
    "- config (optional)\n",
    "  - The path to the Ecotyper config yaml file used for the experiments to summarize (if the same was used). The project folder can be specified as `{parent}`, the scripts folder within the parent can be specified as `{scripts}` if the config is not within either of these, and absolute path is required.\n",
    "- directories\n",
    "  - The directories of EcoTyper results to summarize. These need to be either absolute paths or located within the `results` directory specified below.\n",
    "- outdir \n",
    "  - The directory to save the outputs in\n",
    "- directories_are_absolute\n",
    "  - If set to *True* the directories will be interpreted as absolute paths and not be set relative to `results`. Otherwise respective directories will be extracted from `results` using `glob`."
   ]
  },
  {
   "cell_type": "code",
   "execution_count": null,
   "metadata": {},
   "outputs": [],
   "source": [
    "config = None\n",
    "directories = []\n",
    "outdir = \"{parent}/summaries\"\n",
    "\n",
    "directories_are_absolute = False"
   ]
  },
  {
   "cell_type": "markdown",
   "metadata": {},
   "source": [
    "Other project directories (need not necessarily be edited)"
   ]
  },
  {
   "cell_type": "code",
   "execution_count": null,
   "metadata": {},
   "outputs": [],
   "source": [
    "# the parent directory of the EcoTyper project\n",
    "parent = \"/data/users/noahkleinschmidt/EcoTyper\"\n",
    "\n",
    "# script and results directories within the parent\n",
    "scripts = f\"{parent}/scripts\"\n",
    "results = f\"{parent}/results\"\n",
    "outdir = outdir.format( parent = parent )\n",
    "\n",
    "if config:\n",
    "    config = config.format( parent = parent, scripts = scripts )"
   ]
  },
  {
   "cell_type": "markdown",
   "metadata": {},
   "source": [
    "Now import necessary packages"
   ]
  },
  {
   "cell_type": "code",
   "execution_count": null,
   "metadata": {},
   "outputs": [],
   "source": [
    "import os, glob\n",
    "import eco_validate as ev\n",
    "from eco_validate import summarize as esum"
   ]
  },
  {
   "cell_type": "markdown",
   "metadata": {},
   "source": [
    "Get the directories to summarize and make sure the output directory exists"
   ]
  },
  {
   "cell_type": "code",
   "execution_count": null,
   "metadata": {},
   "outputs": [],
   "source": [
    "if not directories_are_absolute: \n",
    "    dirs = []\n",
    "    for directory in directories:\n",
    "        dirs += glob.glob( os.path.join( results, directory ) )\n",
    "    directories = [ i for i in dirs if os.path.isdir( i ) ]\n",
    "    del dirs\n",
    "\n",
    "if not os.path.exists( outdir ):\n",
    "    os.makedirs( outdir )"
   ]
  },
  {
   "cell_type": "markdown",
   "metadata": {},
   "source": [
    "Load the config file if any was provided"
   ]
  },
  {
   "cell_type": "code",
   "execution_count": null,
   "metadata": {},
   "outputs": [],
   "source": [
    "if config:\n",
    "    config = ev.EcoTyperConfig( config )"
   ]
  },
  {
   "cell_type": "markdown",
   "metadata": {},
   "source": [
    "## Summary section\n",
    "\n",
    "This is the containing the data summary."
   ]
  },
  {
   "cell_type": "markdown",
   "metadata": {},
   "source": [
    "### Ranks summary\n",
    "\n",
    "The *ranks* summarize the initial cell state assignments for each cell type."
   ]
  },
  {
   "cell_type": "code",
   "execution_count": null,
   "metadata": {},
   "outputs": [],
   "source": [
    "# Find the rank datafiles from multiple runs.\n",
    "rank_datafiles = esum.find_rank_datafiles( directories )\n",
    "\n",
    "# Combine the ranks assignment for the different cell types from multiple runs.\n",
    "combined_ranks = esum.combine_ranks( rank_datafiles )\n",
    "\n",
    "outfile = os.path.join( outdir, \"combined_ranks.tsv\" )\n",
    "combined_ranks.to_csv( outfile, sep = \"\\t\" )"
   ]
  },
  {
   "cell_type": "markdown",
   "metadata": {},
   "source": [
    "Visualize the rank summary as a heatmap"
   ]
  },
  {
   "cell_type": "code",
   "execution_count": null,
   "metadata": {},
   "outputs": [],
   "source": [
    "title = \"Combined ranks\"\n",
    "if config:\n",
    "    title += f\" (Cophentic cutoff: {config.cophentic_cutoff})\"\n",
    "esum.rank_heatmap( combined_ranks, title = title )"
   ]
  },
  {
   "cell_type": "markdown",
   "metadata": {},
   "source": [
    "### Cell State Summary\n",
    "\n",
    "The final *cell state* assignments for each cell type.\n",
    "\n"
   ]
  },
  {
   "cell_type": "code",
   "execution_count": null,
   "metadata": {},
   "outputs": [],
   "source": [
    "# get the collective cell states\n",
    "states = ev.core.CellStateCollection( directories )\n",
    "states.save( outdir )"
   ]
  },
  {
   "cell_type": "markdown",
   "metadata": {},
   "source": [
    "Visualize the cell state assignments as a heatmap for each cell type"
   ]
  },
  {
   "cell_type": "code",
   "execution_count": null,
   "metadata": {},
   "outputs": [],
   "source": [
    "suptitle = \"Cell State assignments\"\n",
    "if config:\n",
    "    suptitle = config.dataset\n",
    "\n",
    "figsize = ( 20, 20 )\n",
    "esum.cell_state_heatmap( states, suptitle = suptitle, figsize = figsize )"
   ]
  },
  {
   "cell_type": "markdown",
   "metadata": {},
   "source": [
    "And visualize the summary also as scatterplots"
   ]
  },
  {
   "cell_type": "code",
   "execution_count": null,
   "metadata": {},
   "outputs": [],
   "source": [
    "esum.cell_state_scatterplot( states, suptitle = suptitle, figsize = figsize )"
   ]
  }
 ],
 "metadata": {
  "kernelspec": {
   "display_name": "Python 3.10.5 ('EcoTyper')",
   "language": "python",
   "name": "python3"
  },
  "language_info": {
   "codemirror_mode": {
    "name": "ipython",
    "version": 3
   },
   "file_extension": ".py",
   "mimetype": "text/x-python",
   "name": "python",
   "nbconvert_exporter": "python",
   "pygments_lexer": "ipython3",
   "version": "3.10.5"
  },
  "orig_nbformat": 4,
  "vscode": {
   "interpreter": {
    "hash": "77367b1b86fe4f9ca65966920857aa91134869a7c4331f8dd1494a4b9db8d60d"
   }
  }
 },
 "nbformat": 4,
 "nbformat_minor": 2
}
